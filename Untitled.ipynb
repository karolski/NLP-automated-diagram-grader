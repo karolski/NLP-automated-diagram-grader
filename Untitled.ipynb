{
 "cells": [
  {
   "cell_type": "code",
   "execution_count": 4,
   "metadata": {},
   "outputs": [],
   "source": [
    "import nbimporter"
   ]
  },
  {
   "cell_type": "code",
   "execution_count": 9,
   "metadata": {},
   "outputs": [],
   "source": [
    "from CleanW2V_best_sentence import run_all\n",
    "import pandas as pd"
   ]
  },
  {
   "cell_type": "code",
   "execution_count": 10,
   "metadata": {},
   "outputs": [
    {
     "data": {
      "text/html": [
       "<div>\n",
       "<style scoped>\n",
       "    .dataframe tbody tr th:only-of-type {\n",
       "        vertical-align: middle;\n",
       "    }\n",
       "\n",
       "    .dataframe tbody tr th {\n",
       "        vertical-align: top;\n",
       "    }\n",
       "\n",
       "    .dataframe thead th {\n",
       "        text-align: right;\n",
       "    }\n",
       "</style>\n",
       "<table border=\"1\" class=\"dataframe\">\n",
       "  <thead>\n",
       "    <tr style=\"text-align: right;\">\n",
       "      <th></th>\n",
       "      <th>Field</th>\n",
       "      <th>Field_correct</th>\n",
       "      <th>Field_en</th>\n",
       "      <th>Field_correct_en</th>\n",
       "      <th>Accuracy_score</th>\n",
       "      <th>Code</th>\n",
       "      <th>Fieldname</th>\n",
       "      <th>category</th>\n",
       "    </tr>\n",
       "  </thead>\n",
       "  <tbody>\n",
       "    <tr>\n",
       "      <th>1780</th>\n",
       "      <td>een kanaal dat het afstand verkort</td>\n",
       "      <td>Suez kanaal gegraven</td>\n",
       "      <td>a channel that shortens the distance</td>\n",
       "      <td>Suez canal dug</td>\n",
       "      <td>4</td>\n",
       "      <td>g</td>\n",
       "      <td>Suez;Field4</td>\n",
       "      <td>Suez</td>\n",
       "    </tr>\n",
       "    <tr>\n",
       "      <th>1781</th>\n",
       "      <td>gewenning aan geld en luxe</td>\n",
       "      <td>Suez kanaal gegraven</td>\n",
       "      <td>habituation to money and luxury</td>\n",
       "      <td>Suez canal dug</td>\n",
       "      <td>0</td>\n",
       "      <td>c</td>\n",
       "      <td>Suez;Field4</td>\n",
       "      <td>Suez</td>\n",
       "    </tr>\n",
       "    <tr>\n",
       "      <th>1782</th>\n",
       "      <td>veel afstanden verkort</td>\n",
       "      <td>Suez kanaal gegraven</td>\n",
       "      <td>many distances shortened</td>\n",
       "      <td>Suez canal dug</td>\n",
       "      <td>0</td>\n",
       "      <td>c</td>\n",
       "      <td>Suez;Field4</td>\n",
       "      <td>Suez</td>\n",
       "    </tr>\n",
       "    <tr>\n",
       "      <th>1783</th>\n",
       "      <td>zeemiles minder</td>\n",
       "      <td>Suez kanaal gegraven</td>\n",
       "      <td>zeemiles less</td>\n",
       "      <td>Suez canal dug</td>\n",
       "      <td>0</td>\n",
       "      <td>c</td>\n",
       "      <td>Suez;Field4</td>\n",
       "      <td>Suez</td>\n",
       "    </tr>\n",
       "    <tr>\n",
       "      <th>1784</th>\n",
       "      <td>suezkanaal geopend als scheepsweg in 1842</td>\n",
       "      <td>Suez kanaal gegraven</td>\n",
       "      <td>Suez Canal opened in 1842 scheepsweg</td>\n",
       "      <td>Suez canal dug</td>\n",
       "      <td>4</td>\n",
       "      <td>g</td>\n",
       "      <td>Suez;Field4</td>\n",
       "      <td>Suez</td>\n",
       "    </tr>\n",
       "  </tbody>\n",
       "</table>\n",
       "</div>"
      ],
      "text/plain": [
       "                                          Field         Field_correct  \\\n",
       "1780         een kanaal dat het afstand verkort  Suez kanaal gegraven   \n",
       "1781                 gewenning aan geld en luxe  Suez kanaal gegraven   \n",
       "1782                     veel afstanden verkort  Suez kanaal gegraven   \n",
       "1783                            zeemiles minder  Suez kanaal gegraven   \n",
       "1784  suezkanaal geopend als scheepsweg in 1842  Suez kanaal gegraven   \n",
       "\n",
       "                                  Field_en Field_correct_en Accuracy_score  \\\n",
       "1780  a channel that shortens the distance   Suez canal dug              4   \n",
       "1781       habituation to money and luxury   Suez canal dug              0   \n",
       "1782              many distances shortened   Suez canal dug              0   \n",
       "1783                         zeemiles less   Suez canal dug              0   \n",
       "1784  Suez Canal opened in 1842 scheepsweg   Suez canal dug              4   \n",
       "\n",
       "     Code    Fieldname category  \n",
       "1780    g  Suez;Field4     Suez  \n",
       "1781    c  Suez;Field4     Suez  \n",
       "1782    c  Suez;Field4     Suez  \n",
       "1783    c  Suez;Field4     Suez  \n",
       "1784    g  Suez;Field4     Suez  "
      ]
     },
     "execution_count": 10,
     "metadata": {},
     "output_type": "execute_result"
    }
   ],
   "source": [
    "exp_frame = pd.read_csv('Example_dataset_marble - 5_column_with_correct.csv')\n",
    "exp_frame[\"category\"] = [a[0] for a in exp_frame[\"Fieldname\"].str.split(\";\")] \n",
    "exp_frame.tail()"
   ]
  },
  {
   "cell_type": "code",
   "execution_count": 11,
   "metadata": {},
   "outputs": [
    {
     "ename": "NameError",
     "evalue": "name 'benchmarks' is not defined",
     "output_type": "error",
     "traceback": [
      "\u001b[0;31m---------------------------------------------------------------------------\u001b[0m",
      "\u001b[0;31mNameError\u001b[0m                                 Traceback (most recent call last)",
      "\u001b[0;32m<ipython-input-11-c9c1b3e124b9>\u001b[0m in \u001b[0;36m<module>\u001b[0;34m()\u001b[0m\n\u001b[0;32m----> 1\u001b[0;31m \u001b[0mframe\u001b[0m \u001b[0;34m=\u001b[0m \u001b[0mrun_all\u001b[0m\u001b[0;34m(\u001b[0m\u001b[0mexp_frame\u001b[0m\u001b[0;34m,\u001b[0m \u001b[0mbenchmarks\u001b[0m\u001b[0;34m)\u001b[0m\u001b[0;34m\u001b[0m\u001b[0m\n\u001b[0m",
      "\u001b[0;31mNameError\u001b[0m: name 'benchmarks' is not defined"
     ]
    }
   ],
   "source": [
    "frame = run_all(exp_frame, benchmarks)"
   ]
  },
  {
   "cell_type": "code",
   "execution_count": 17,
   "metadata": {},
   "outputs": [],
   "source": [
    "b = zip([1,2,3,4,5,6,6,5,6,5], [1])"
   ]
  },
  {
   "cell_type": "code",
   "execution_count": 18,
   "metadata": {},
   "outputs": [
    {
     "name": "stdout",
     "output_type": "stream",
     "text": [
      "(1, 1)\n"
     ]
    },
    {
     "data": {
      "text/plain": [
       "[None]"
      ]
     },
     "execution_count": 18,
     "metadata": {},
     "output_type": "execute_result"
    }
   ],
   "source": [
    "[print(a) for a in b]"
   ]
  },
  {
   "cell_type": "code",
   "execution_count": null,
   "metadata": {},
   "outputs": [],
   "source": []
  }
 ],
 "metadata": {
  "kernelspec": {
   "display_name": "Python 3",
   "language": "python",
   "name": "python3"
  },
  "language_info": {
   "codemirror_mode": {
    "name": "ipython",
    "version": 3
   },
   "file_extension": ".py",
   "mimetype": "text/x-python",
   "name": "python",
   "nbconvert_exporter": "python",
   "pygments_lexer": "ipython3",
   "version": "3.5.2"
  }
 },
 "nbformat": 4,
 "nbformat_minor": 2
}
